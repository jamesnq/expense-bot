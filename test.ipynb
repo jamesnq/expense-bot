{
 "cells": [
  {
   "cell_type": "code",
   "execution_count": 4,
   "metadata": {},
   "outputs": [],
   "source": [
    "import gspread\n",
    "from google.oauth2.service_account import Credentials\n",
    "from googleapiclient.discovery import build\n",
    "from datetime import datetime\n",
    "from openai import OpenAI\n",
    "import os\n",
    "import json\n",
    "from dotenv import load_dotenv\n",
    "from telegram import Update, ForceReply\n",
    "from telegram.ext import Updater, CommandHandler, MessageHandler, filters, ContextTypes, Application\n",
    "import requests\n",
    "import logging"
   ]
  },
  {
   "cell_type": "code",
   "execution_count": 5,
   "metadata": {},
   "outputs": [],
   "source": [
    "load_dotenv()\n",
    "telegram_bot_api_key = os.getenv('TELEGRAM_BOT_API_KEY')\n",
    "openai_api_key = os.getenv('OPENAI_API_KEY')\n",
    "OpenAI.api_key = openai_api_key\n",
    "client = OpenAI()"
   ]
  },
  {
   "cell_type": "code",
   "execution_count": 7,
   "metadata": {},
   "outputs": [],
   "source": [
    "logging.basicConfig(\n",
    "    format=\"%(asctime)s - %(name)s - %(levelname)s - %(message)s\", level=logging.INFO\n",
    ")\n",
    "# set higher logging level for httpx to avoid all GET and POST requests being logged\n",
    "logging.getLogger(\"httpx\").setLevel(logging.WARNING)\n",
    "\n",
    "logger = logging.getLogger(__name__)"
   ]
  },
  {
   "cell_type": "code",
   "execution_count": 8,
   "metadata": {},
   "outputs": [
    {
     "name": "stderr",
     "output_type": "stream",
     "text": [
      "2025-01-02 16:18:38,112 - googleapiclient.discovery_cache - INFO - file_cache is only supported with oauth2client<4.0.0\n"
     ]
    }
   ],
   "source": [
    "SCOPE = [\n",
    "    \"https://www.googleapis.com/auth/spreadsheets\"\n",
    "    ]\n",
    "\n",
    "CREDS = Credentials.from_service_account_file('creds.json', scopes=SCOPE)\n",
    "# SCOPED_CREDS = CREDS.with_scopes(SCOPE)\n",
    "GSPREAD_CLIENT = gspread.authorize(CREDS)\n",
    "SHEET_ID = \"1V8tqqiW1AGPfl9FH1HPZ_ko0wVNJFakmfEHCKak01Xo\"\n",
    "SHEET = GSPREAD_CLIENT.open_by_key(SHEET_ID)\n",
    "SERVICE = build('sheets', 'v4', credentials=CREDS)"
   ]
  },
  {
   "cell_type": "code",
   "execution_count": 9,
   "metadata": {},
   "outputs": [],
   "source": [
    "class DataImporter:\n",
    "    def import_data(self, json_data):\n",
    "        # Ensure json_data is a dictionary\n",
    "        if isinstance(json_data, str):\n",
    "            json_data = json.loads(json_data)\n",
    "        date = json_data['date']\n",
    "        amount = json_data['amount']\n",
    "        currency = json_data['currency']\n",
    "        trans_type = json_data['trans_type']\n",
    "        category = json_data['category']\n",
    "        note = json_data['note']\n",
    "        account = json_data['account']\n",
    "        values = [date, amount, currency, trans_type, category, note, account]\n",
    "        return values\n",
    "\n",
    "    def append_data_to_last_row(self, sheet, data):\n",
    "        \"\"\"\n",
    "        Appends data to the last row of a Google Sheet.\n",
    "\n",
    "        Args:\n",
    "            sheet (gspread.Worksheet): The Google Sheet to append data to.\n",
    "            data (list): A list of data to append to the last row.\n",
    "        \"\"\"\n",
    "        # Call the Sheets API to append data\n",
    "        response = sheet.append_row(values=data)\n",
    "        return response"
   ]
  },
  {
   "cell_type": "code",
   "execution_count": 10,
   "metadata": {},
   "outputs": [],
   "source": [
    "prompt = \"\"\"\n",
    "    You are a helpful assistant that helps users to manage their finances in 2025. You will extract data from user notes by both English and Vietnamese.\n",
    "    The user will input a transaction note in Vietnamese or English. You will extract data from the note and return the data in a JSON format, each field contains only one value.\n",
    "    The JSON format should be:\n",
    "    {\n",
    "        \"date\": dd/mm/2025,\n",
    "        \"amount\": number,\n",
    "        \"currency\": \"VND, USD\",\n",
    "        \"trans_type\": \"Thu, Chi, Đổi\",\n",
    "        \"category\": \"Ăn uống, Giải trí, Hóa đơn, Personal, Quà, Thu coin, Trả ví, Thu code, Trả code, Trả lương, Lương\",\n",
    "        \"note\": \"note\",\n",
    "        \"account\": \"VP, Momo, Paypal, Binance, Techcombank, VCB, Tsr\"\n",
    "    }\n",
    "    \n",
    "    With not related input, just return \"Invalid input\"\n",
    "\"\"\"\n",
    "\n",
    "user_prompt = \"2/1 573k thu tiền coin nạp game zalo VP\""
   ]
  },
  {
   "cell_type": "code",
   "execution_count": 11,
   "metadata": {},
   "outputs": [],
   "source": [
    "completion = client.chat.completions.create(\n",
    "    model=\"gpt-4o-mini\",\n",
    "    messages=[\n",
    "        {\"role\": \"system\", \"content\": prompt},\n",
    "        {\n",
    "            \"role\": \"user\",\n",
    "            \"content\": user_prompt\n",
    "        }\n",
    "    ]\n",
    ")"
   ]
  },
  {
   "cell_type": "code",
   "execution_count": 12,
   "metadata": {},
   "outputs": [
    {
     "name": "stdout",
     "output_type": "stream",
     "text": [
      "{\n",
      "    \"date\": \"02/01/2025\",\n",
      "    \"amount\": 573000,\n",
      "    \"currency\": \"VND\",\n",
      "    \"trans_type\": \"Thu\",\n",
      "    \"category\": \"Thu coin\",\n",
      "    \"note\": \"nạp game\",\n",
      "    \"account\": \"VP\"\n",
      "}\n"
     ]
    }
   ],
   "source": [
    "json_data = completion.choices[0].message.content\n",
    "print(json_data)"
   ]
  },
  {
   "cell_type": "code",
   "execution_count": 13,
   "metadata": {},
   "outputs": [
    {
     "name": "stdout",
     "output_type": "stream",
     "text": [
      "{'spreadsheetId': '1V8tqqiW1AGPfl9FH1HPZ_ko0wVNJFakmfEHCKak01Xo', 'tableRange': 'Details!A1:G11', 'updates': {'spreadsheetId': '1V8tqqiW1AGPfl9FH1HPZ_ko0wVNJFakmfEHCKak01Xo', 'updatedRange': 'Details!A12:G12', 'updatedRows': 1, 'updatedColumns': 7, 'updatedCells': 7}}\n"
     ]
    }
   ],
   "source": [
    "details_sheet = SHEET.worksheet(\"Details\")\n",
    "data_importer = DataImporter()\n",
    "values = data_importer.import_data(json_data)\n",
    "response = data_importer.append_data_to_last_row(details_sheet, values)\n",
    "print(response)"
   ]
  }
 ],
 "metadata": {
  "kernelspec": {
   "display_name": "sheets",
   "language": "python",
   "name": "python3"
  },
  "language_info": {
   "codemirror_mode": {
    "name": "ipython",
    "version": 3
   },
   "file_extension": ".py",
   "mimetype": "text/x-python",
   "name": "python",
   "nbconvert_exporter": "python",
   "pygments_lexer": "ipython3",
   "version": "3.12.5"
  }
 },
 "nbformat": 4,
 "nbformat_minor": 2
}
